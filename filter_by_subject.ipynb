{
 "cells": [
  {
   "cell_type": "markdown",
   "metadata": {},
   "source": [
    "## Filtering DOAJ database by subject"
   ]
  },
  {
   "cell_type": "code",
   "execution_count": 35,
   "metadata": {},
   "outputs": [],
   "source": [
    "import pandas as pd\n",
    "\n",
    "def doaj_subject_filter(filename, topics):\n",
    "    # Expects a json file\n",
    "    df = pd.read_json(filename, lines=True)\n",
    "    df['subjects'] = df['subjects'].astype(str)\n",
    "    \n",
    "    searchfor = '|'.join(topics)\n",
    "    print('Searching for:', searchfor)\n",
    "    \n",
    "    df = df.loc[df['subjects'].str.contains(searchfor)]\n",
    "    \n",
    "    print('Dataframe size:', len(df))\n",
    "    print('Saving to csv')\n",
    "    df.to_csv('filtered_doaj.csv', header=True, index=False)\n",
    "    \n",
    "    return df"
   ]
  },
  {
   "cell_type": "markdown",
   "metadata": {},
   "source": [
    "### Example"
   ]
  },
  {
   "cell_type": "code",
   "execution_count": 36,
   "metadata": {
    "scrolled": true
   },
   "outputs": [
    {
     "name": "stdout",
     "output_type": "stream",
     "text": [
      "Searching for: 'Medicine'|'Public aspects of medicine'|'Social sciences \\(General\\)'\n",
      "Dataframe size: 104389\n",
      "Saving to csv\n"
     ]
    }
   ],
   "source": [
    "topics = [\"'Medicine'\", \"'Public aspects of medicine'\", \"'Social sciences \\(General\\)'\"]\n",
    "\n",
    "df = doaj_subject_filter('sample_processed_doaj_600k.json', topics)"
   ]
  },
  {
   "cell_type": "code",
   "execution_count": 38,
   "metadata": {},
   "outputs": [
    {
     "data": {
      "text/html": [
       "<div>\n",
       "<style scoped>\n",
       "    .dataframe tbody tr th:only-of-type {\n",
       "        vertical-align: middle;\n",
       "    }\n",
       "\n",
       "    .dataframe tbody tr th {\n",
       "        vertical-align: top;\n",
       "    }\n",
       "\n",
       "    .dataframe thead th {\n",
       "        text-align: right;\n",
       "    }\n",
       "</style>\n",
       "<table border=\"1\" class=\"dataframe\">\n",
       "  <thead>\n",
       "    <tr style=\"text-align: right;\">\n",
       "      <th></th>\n",
       "      <th>title</th>\n",
       "      <th>abstract</th>\n",
       "      <th>year</th>\n",
       "      <th>subjects</th>\n",
       "    </tr>\n",
       "  </thead>\n",
       "  <tbody>\n",
       "    <tr>\n",
       "      <th>0</th>\n",
       "      <td>DEGENERACIÓN MACULAR RELACIONADA CON LA EDAD. ...</td>\n",
       "      <td>Se realizó un estudio transversal descriptivo ...</td>\n",
       "      <td>2006</td>\n",
       "      <td>['Medicine', 'Medicine (General)']</td>\n",
       "    </tr>\n",
       "    <tr>\n",
       "      <th>7</th>\n",
       "      <td>Association between perceived insufficient sle...</td>\n",
       "      <td>&lt;p&gt;Abstract&lt;/p&gt; &lt;p&gt;Background&lt;/p&gt; &lt;p&gt;Although ...</td>\n",
       "      <td>2013</td>\n",
       "      <td>['Public aspects of medicine']</td>\n",
       "    </tr>\n",
       "    <tr>\n",
       "      <th>8</th>\n",
       "      <td>Amniotic band syndrome: A case report and revi...</td>\n",
       "      <td>Amniotic band syndrome is a rare disorder with...</td>\n",
       "      <td>2018</td>\n",
       "      <td>['Medicine']</td>\n",
       "    </tr>\n",
       "    <tr>\n",
       "      <th>12</th>\n",
       "      <td>Avaliação da contaminação experimental de arei...</td>\n",
       "      <td>Procurou-se avaliar métodos e soluções tradici...</td>\n",
       "      <td>1991</td>\n",
       "      <td>['Medicine', 'Public aspects of medicine']</td>\n",
       "    </tr>\n",
       "    <tr>\n",
       "      <th>13</th>\n",
       "      <td>The principles of medical ethics and medical r...</td>\n",
       "      <td>In this paper I discuss the application of the...</td>\n",
       "      <td>1999</td>\n",
       "      <td>['Medicine', 'Public aspects of medicine']</td>\n",
       "    </tr>\n",
       "  </tbody>\n",
       "</table>\n",
       "</div>"
      ],
      "text/plain": [
       "                                                title  \\\n",
       "0   DEGENERACIÓN MACULAR RELACIONADA CON LA EDAD. ...   \n",
       "7   Association between perceived insufficient sle...   \n",
       "8   Amniotic band syndrome: A case report and revi...   \n",
       "12  Avaliação da contaminação experimental de arei...   \n",
       "13  The principles of medical ethics and medical r...   \n",
       "\n",
       "                                             abstract  year  \\\n",
       "0   Se realizó un estudio transversal descriptivo ...  2006   \n",
       "7   <p>Abstract</p> <p>Background</p> <p>Although ...  2013   \n",
       "8   Amniotic band syndrome is a rare disorder with...  2018   \n",
       "12  Procurou-se avaliar métodos e soluções tradici...  1991   \n",
       "13  In this paper I discuss the application of the...  1999   \n",
       "\n",
       "                                      subjects  \n",
       "0           ['Medicine', 'Medicine (General)']  \n",
       "7               ['Public aspects of medicine']  \n",
       "8                                 ['Medicine']  \n",
       "12  ['Medicine', 'Public aspects of medicine']  \n",
       "13  ['Medicine', 'Public aspects of medicine']  "
      ]
     },
     "execution_count": 38,
     "metadata": {},
     "output_type": "execute_result"
    }
   ],
   "source": [
    "df.head()"
   ]
  }
 ],
 "metadata": {
  "kernelspec": {
   "display_name": "Python 3",
   "language": "python",
   "name": "python3"
  },
  "language_info": {
   "codemirror_mode": {
    "name": "ipython",
    "version": 3
   },
   "file_extension": ".py",
   "mimetype": "text/x-python",
   "name": "python",
   "nbconvert_exporter": "python",
   "pygments_lexer": "ipython3",
   "version": "3.7.3"
  }
 },
 "nbformat": 4,
 "nbformat_minor": 2
}
