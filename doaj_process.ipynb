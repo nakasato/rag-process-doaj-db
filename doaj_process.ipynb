{
 "cells": [
  {
   "cell_type": "code",
   "execution_count": 2,
   "metadata": {},
   "outputs": [],
   "source": [
    "import os\n",
    "import json\n",
    "import time as t\n",
    "import pandas as pd\n",
    "from tqdm import tqdm"
   ]
  },
  {
   "cell_type": "code",
   "execution_count": 2,
   "metadata": {},
   "outputs": [],
   "source": [
    "def get_doaj_files(doaj_path='doaj_article_data_2021-04-07/'):\n",
    "    files = os.listdir(doaj_path)\n",
    "    \n",
    "    return [os.path.join(doaj_path, f) for f in files]\n",
    "\n",
    "def get_file_content(file_path):\n",
    "    with open(file_path) as f:\n",
    "        doaj_file = f.read()\n",
    "        \n",
    "    return json.loads(doaj_file)\n",
    "    \n",
    "def extract_useful_info(paper_dict):\n",
    "    useful_info = {}\n",
    "\n",
    "    useful_info['title'] = paper['bibjson']['title']\n",
    "    useful_info['abstract'] = paper['bibjson']['abstract']\n",
    "    \n",
    "    if 'year' in paper['bibjson'].keys():\n",
    "        useful_info['year'] = paper['bibjson']['year']\n",
    "    if 'subject' in paper['bibjson'].keys():\n",
    "        useful_info['subjects'] = [e['term'] for e in paper['bibjson']['subject']]\n",
    "    \n",
    "    return useful_info\n",
    "\n",
    "def save(file_path, content):\n",
    "    with open(file_path, 'a') as out:\n",
    "        json.dump(content, out)\n",
    "        out.write('\\n')"
   ]
  },
  {
   "cell_type": "code",
   "execution_count": 3,
   "metadata": {
    "scrolled": true
   },
   "outputs": [
    {
     "name": "stderr",
     "output_type": "stream",
     "text": [
      "100%|██████████| 60/60 [07:19<00:00,  7.33s/it]"
     ]
    },
    {
     "name": "stdout",
     "output_type": "stream",
     "text": [
      "- success: 5439087\n",
      "- fail: 550569\n",
      "- fail_with_abs: 1060\n",
      "Duration: 7.33 min\n",
      "\n"
     ]
    },
    {
     "name": "stderr",
     "output_type": "stream",
     "text": [
      "\n"
     ]
    }
   ],
   "source": [
    "tic = t.time()\n",
    "\n",
    "files = get_doaj_files(doaj_path='doaj_article_data_2021-05-01/')\n",
    "\n",
    "count_success = 0\n",
    "count_fail = 0\n",
    "count_fail_with_abs = 0\n",
    "\n",
    "processed_doaj = 'processed_doaj.json'\n",
    "fail_doaj = 'fail_doaj.json'\n",
    "fail_with_abs = 'fail_with_abs.json'\n",
    "\n",
    "for f in tqdm(files):\n",
    "    doaj_file = get_file_content(f)\n",
    "    \n",
    "    for paper in doaj_file:\n",
    "        try:\n",
    "            useful_info = extract_useful_info(paper)\n",
    "            save(processed_doaj, useful_info)\n",
    "            count_success += 1\n",
    "            \n",
    "        except:\n",
    "            count_fail += 1\n",
    "            save(fail_doaj, paper)\n",
    "\n",
    "            if \"'abstract':\" in str(paper):\n",
    "                count_fail_with_abs += 1\n",
    "                save(fail_with_abs, paper)\n",
    "\n",
    "print('- success:', count_success)\n",
    "print('- fail:', count_fail)\n",
    "print('- fail_with_abs:', count_fail_with_abs)\n",
    "\n",
    "tac = t.time()\n",
    "duration = round((tac-tic)/60, 2)\n",
    "print('Duration: {} min\\n'.format(duration))"
   ]
  },
  {
   "cell_type": "markdown",
   "metadata": {},
   "source": [
    "## Adapting format for embedding creation"
   ]
  },
  {
   "cell_type": "code",
   "execution_count": 40,
   "metadata": {},
   "outputs": [
    {
     "name": "stdout",
     "output_type": "stream",
     "text": [
      "1000000\n"
     ]
    },
    {
     "data": {
      "text/html": [
       "<div>\n",
       "<style scoped>\n",
       "    .dataframe tbody tr th:only-of-type {\n",
       "        vertical-align: middle;\n",
       "    }\n",
       "\n",
       "    .dataframe tbody tr th {\n",
       "        vertical-align: top;\n",
       "    }\n",
       "\n",
       "    .dataframe thead th {\n",
       "        text-align: right;\n",
       "    }\n",
       "</style>\n",
       "<table border=\"1\" class=\"dataframe\">\n",
       "  <thead>\n",
       "    <tr style=\"text-align: right;\">\n",
       "      <th></th>\n",
       "      <th>title</th>\n",
       "      <th>abstract</th>\n",
       "      <th>year</th>\n",
       "      <th>subjects</th>\n",
       "    </tr>\n",
       "  </thead>\n",
       "  <tbody>\n",
       "    <tr>\n",
       "      <th>0</th>\n",
       "      <td>Surgical technologists' knowledge and performa...</td>\n",
       "      <td>INTRODUCTION: The use of ionizing radiation in...</td>\n",
       "      <td>2020</td>\n",
       "      <td>[Special aspects of education, Public aspects ...</td>\n",
       "    </tr>\n",
       "    <tr>\n",
       "      <th>1</th>\n",
       "      <td>ASESORÍA ACADÉMICA UNIVERSITARIA: PERFIL DE CO...</td>\n",
       "      <td>Resumen:El artículo se refiere a las generalid...</td>\n",
       "      <td>2010</td>\n",
       "      <td>[Education, Education (General)]</td>\n",
       "    </tr>\n",
       "    <tr>\n",
       "      <th>2</th>\n",
       "      <td>Potential biomarkers of childhood brain tumor ...</td>\n",
       "      <td>Abstract Brain tumors are the most common soli...</td>\n",
       "      <td>2021</td>\n",
       "      <td>[Medicine, Science]</td>\n",
       "    </tr>\n",
       "    <tr>\n",
       "      <th>3</th>\n",
       "      <td>Un programa de formación continua con profesor...</td>\n",
       "      <td>En este artículo se presentan los resultados d...</td>\n",
       "      <td>2012</td>\n",
       "      <td>[Special aspects of education, Theory and prac...</td>\n",
       "    </tr>\n",
       "    <tr>\n",
       "      <th>4</th>\n",
       "      <td>Music in the Thought of Deconstruction / Decon...</td>\n",
       "      <td>This article critically speculates on points o...</td>\n",
       "      <td>2005</td>\n",
       "      <td>[Music]</td>\n",
       "    </tr>\n",
       "  </tbody>\n",
       "</table>\n",
       "</div>"
      ],
      "text/plain": [
       "                                               title  \\\n",
       "0  Surgical technologists' knowledge and performa...   \n",
       "1  ASESORÍA ACADÉMICA UNIVERSITARIA: PERFIL DE CO...   \n",
       "2  Potential biomarkers of childhood brain tumor ...   \n",
       "3  Un programa de formación continua con profesor...   \n",
       "4  Music in the Thought of Deconstruction / Decon...   \n",
       "\n",
       "                                            abstract  year  \\\n",
       "0  INTRODUCTION: The use of ionizing radiation in...  2020   \n",
       "1  Resumen:El artículo se refiere a las generalid...  2010   \n",
       "2  Abstract Brain tumors are the most common soli...  2021   \n",
       "3  En este artículo se presentan los resultados d...  2012   \n",
       "4  This article critically speculates on points o...  2005   \n",
       "\n",
       "                                            subjects  \n",
       "0  [Special aspects of education, Public aspects ...  \n",
       "1                   [Education, Education (General)]  \n",
       "2                                [Medicine, Science]  \n",
       "3  [Special aspects of education, Theory and prac...  \n",
       "4                                            [Music]  "
      ]
     },
     "execution_count": 40,
     "metadata": {},
     "output_type": "execute_result"
    }
   ],
   "source": [
    "filename = 'sample_processed_doaj_1m_equiv_wiki' #'sample_mini'\n",
    "df = pd.read_json(filename+'.json', lines=True)\n",
    "print(len(df))\n",
    "df.head()"
   ]
  },
  {
   "cell_type": "code",
   "execution_count": 41,
   "metadata": {},
   "outputs": [],
   "source": [
    "df.replace({'\"': '', '\\n': ' ', '\\r': '', '\\t': ''}, regex=True, inplace=True)\n",
    "df[['title', 'abstract']].to_csv(filename+'.csv', index=False, header=False, sep='\\t', line_terminator='\\n')"
   ]
  },
  {
   "cell_type": "markdown",
   "metadata": {},
   "source": [
    "## Shuffling and sampling\n",
    "To shuffle and sample, it's better, faster and easier to go with the linux shell (below, we get ~10\\% out of the total nº of the processed successfully articles):\n",
    "\n",
    "\n",
    "```shell\n",
    "shuf -n 600000 processed_doaj.json > sample_processed_doaj.json\n",
    "```"
   ]
  }
 ],
 "metadata": {
  "kernelspec": {
   "display_name": "Python 3",
   "language": "python",
   "name": "python3"
  },
  "language_info": {
   "codemirror_mode": {
    "name": "ipython",
    "version": 3
   },
   "file_extension": ".py",
   "mimetype": "text/x-python",
   "name": "python",
   "nbconvert_exporter": "python",
   "pygments_lexer": "ipython3",
   "version": "3.7.3"
  }
 },
 "nbformat": 4,
 "nbformat_minor": 2
}
